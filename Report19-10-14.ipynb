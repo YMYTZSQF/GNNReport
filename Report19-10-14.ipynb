{
 "cells": [
  {
   "cell_type": "markdown",
   "metadata": {},
   "source": [
    "Last week we have discussed the 3 strategies for integrating node embedding with Graph-RNN. We think the Strategy 3 is the most reasonable strategy. This week I have implemented the strategy 3 and got some experment results.\n",
    "\n",
    "![Report19-10-07_2.jpeg](img/Report19-10-07_2.jpeg)\n",
    "![Report19-10-07_4.jpeg](img/Report19-10-07_4.jpeg)\n",
    "\n",
    "|Method     | Original GraphRNN | Strategy 1 for integrating node embedding with Graph-RNN |Strategy 3 for integrating node embedding with Graph-RNN|\n",
    "| :---        |    :----:   |    :----:   |          ---: |\n",
    "|Degree     | 0.1631650749      | 1.852754479   |1.22303648|\n",
    "|Clustering coef.   | 0.03183506654       |1.981700998      |1.996543150|\n",
    "|Orbit counts   | 0.06887923342        |1.323235293      |0.871948051|\n",
    "\n",
    "The results show that Strategy 3 could get better result than strategy 1. But it still can not get similar quality as the original GraphRNN. So I think next step we have two possible directions to explore: 1. Explore integrating with other embedding methods; 2. Focus on merging generated small scale graphs into a large one"
   ]
  },
  {
   "cell_type": "code",
   "execution_count": null,
   "metadata": {},
   "outputs": [],
   "source": []
  }
 ],
 "metadata": {
  "kernelspec": {
   "display_name": "Python 3",
   "language": "python",
   "name": "python3"
  },
  "language_info": {
   "codemirror_mode": {
    "name": "ipython",
    "version": 3
   },
   "file_extension": ".py",
   "mimetype": "text/x-python",
   "name": "python",
   "nbconvert_exporter": "python",
   "pygments_lexer": "ipython3",
   "version": "3.7.3"
  }
 },
 "nbformat": 4,
 "nbformat_minor": 2
}
