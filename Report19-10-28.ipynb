{
 "cells": [
  {
   "cell_type": "markdown",
   "metadata": {},
   "source": [
    "Dr.Shen has mentioned fractals (https://fractalfoundation.org/OFC/OFC-1-1.html). I think this is a practical way to consider about. \n",
    "\n",
    "Actually, similary idea has been proposed to generate Kronecker graphs. In which they defined Kronecker product to \"replicate\" adjacent matrix to get large Kronecker graphs.\n",
    "\n",
    "Kronecker graphs is defined as graphs with heavy-tailed distributions for in-degree, out-degree, eigenvalues, and eigenvectors. Several real-world networks have these properties (social network, citation, etc.) \n",
    "\n",
    "Basically what Kronecker product does is to to replicate the initiator's adjacency matrix in a self-similar way. \n",
    "<img src=\"img/Report19-10-28_1.jpg\" alt=\"Report19-10-28_1.jpeg\" style=\"width: 600px;\"/>\n",
    "<img src=\"img/Report19-10-28_2.jpg\" alt=\"Report19-10-28_2.jpeg\" style=\"width: 600px;\"/>\n",
    "\n",
    "The disadvantages of Kronecker product is that 1.it highly relies on the initiator. 2. it only based on one train graph (the initiator). 2.it only supports Kronecker graph. \n",
    "\n",
    "I think this method is similar to the thought of fractals. Aiming at these disadvantages, since graphRNN can generate a bunch of graphs with similar properties based on the same training set, if we can design a method to merge them together, it could help us overcome the disadvantages of Kronecker product. \n",
    "\n",
    "I have also checked the paper mentioned by Dr.Shen [\"Context-Free Graph Grammars and\n",
    "Concatenation of Graphs\"](https://pure.tue.nl/ws/files/2104036/9610575.pdf), which is a pure theoretical langugae theory paper without any experiments. I'm not familiar with language theory and I have difficulty in understanding all the proofs. I'm also not sure about the difficulty of turning these theories into practical programs."
   ]
  },
  {
   "cell_type": "code",
   "execution_count": null,
   "metadata": {},
   "outputs": [],
   "source": []
  }
 ],
 "metadata": {
  "kernelspec": {
   "display_name": "Python 3",
   "language": "python",
   "name": "python3"
  },
  "language_info": {
   "codemirror_mode": {
    "name": "ipython",
    "version": 3
   },
   "file_extension": ".py",
   "mimetype": "text/x-python",
   "name": "python",
   "nbconvert_exporter": "python",
   "pygments_lexer": "ipython3",
   "version": "3.7.3"
  }
 },
 "nbformat": 4,
 "nbformat_minor": 2
}
