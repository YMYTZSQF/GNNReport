{
 "cells": [
  {
   "cell_type": "markdown",
   "metadata": {},
   "source": [
    "### Simplified Graph-RNN pipeline"
   ]
  },
  {
   "cell_type": "markdown",
   "metadata": {},
   "source": [
    "![Report19-10-07_1.jpeg](img/Report19-10-07_1.jpeg)"
   ]
  },
  {
   "cell_type": "markdown",
   "metadata": {},
   "source": [
    "### Strategy 1 for integrating node embedding with Graph-RNN pipeline"
   ]
  },
  {
   "cell_type": "markdown",
   "metadata": {},
   "source": [
    "![Report19-10-07_2.jpeg](img/Report19-10-07_2.jpeg)"
   ]
  },
  {
   "cell_type": "markdown",
   "metadata": {},
   "source": [
    "### Strategy 2 for integrating node embedding with Graph-RNN pipeline"
   ]
  },
  {
   "cell_type": "markdown",
   "metadata": {},
   "source": [
    "![Report19-10-07_3.jpeg](img/Report19-10-07_3.jpeg)"
   ]
  },
  {
   "cell_type": "markdown",
   "metadata": {},
   "source": [
    "### Strategy 3 for integrating node embedding with Graph-RNN pipeline"
   ]
  },
  {
   "cell_type": "markdown",
   "metadata": {},
   "source": [
    "![Report19-10-07_4.jpeg](img/Report19-10-07_4.jpeg)"
   ]
  },
  {
   "cell_type": "markdown",
   "metadata": {},
   "source": [
    "### Training loss for original GraphRNN (100 epochs)"
   ]
  },
  {
   "cell_type": "markdown",
   "metadata": {},
   "source": [
    "Epoch: 1/100, train loss: 0.683947, graph type: grid, num_layer: 4, hidden: 128\n",
    "Epoch: 2/100, train loss: 0.163502, graph type: grid, num_layer: 4, hidden: 128\n",
    "Epoch: 3/100, train loss: 0.155810, graph type: grid, num_layer: 4, hidden: 128\n",
    "Epoch: 4/100, train loss: 0.138189, graph type: grid, num_layer: 4, hidden: 128\n",
    "Epoch: 5/100, train loss: 0.117183, graph type: grid, num_layer: 4, hidden: 128\n",
    "Epoch: 6/100, train loss: 0.095759, graph type: grid, num_layer: 4, hidden: 128\n",
    "Epoch: 7/100, train loss: 0.077625, graph type: grid, num_layer: 4, hidden: 128\n",
    "Epoch: 8/100, train loss: 0.071449, graph type: grid, num_layer: 4, hidden: 128\n",
    "Epoch: 9/100, train loss: 0.065969, graph type: grid, num_layer: 4, hidden: 128\n",
    "Epoch: 10/100, train loss: 0.068366, graph type: grid, num_layer: 4, hidden: 128\n",
    "Epoch: 11/100, train loss: 0.060765, graph type: grid, num_layer: 4, hidden: 128\n",
    "Epoch: 12/100, train loss: 0.074474, graph type: grid, num_layer: 4, hidden: 128\n",
    "Epoch: 13/100, train loss: 0.059251, graph type: grid, num_layer: 4, hidden: 128\n",
    "Epoch: 14/100, train loss: 0.052916, graph type: grid, num_layer: 4, hidden: 128\n",
    "Epoch: 15/100, train loss: 0.054171, graph type: grid, num_layer: 4, hidden: 128\n",
    "Epoch: 16/100, train loss: 0.052131, graph type: grid, num_layer: 4, hidden: 128\n",
    "Epoch: 17/100, train loss: 0.055371, graph type: grid, num_layer: 4, hidden: 128\n",
    "Epoch: 18/100, train loss: 0.052280, graph type: grid, num_layer: 4, hidden: 128\n",
    "Epoch: 19/100, train loss: 0.052233, graph type: grid, num_layer: 4, hidden: 128\n",
    "Epoch: 20/100, train loss: 0.052240, graph type: grid, num_layer: 4, hidden: 128\n",
    "Epoch: 21/100, train loss: 0.053310, graph type: grid, num_layer: 4, hidden: 128\n",
    "Epoch: 22/100, train loss: 0.050050, graph type: grid, num_layer: 4, hidden: 128\n",
    "Epoch: 23/100, train loss: 0.052207, graph type: grid, num_layer: 4, hidden: 128\n",
    "Epoch: 24/100, train loss: 0.049957, graph type: grid, num_layer: 4, hidden: 128\n",
    "Epoch: 25/100, train loss: 0.052404, graph type: grid, num_layer: 4, hidden: 128\n",
    "Epoch: 26/100, train loss: 0.051301, graph type: grid, num_layer: 4, hidden: 128\n",
    "Epoch: 27/100, train loss: 0.049708, graph type: grid, num_layer: 4, hidden: 128\n",
    "Epoch: 28/100, train loss: 0.048510, graph type: grid, num_layer: 4, hidden: 128\n",
    "Epoch: 29/100, train loss: 0.049622, graph type: grid, num_layer: 4, hidden: 128\n",
    "Epoch: 30/100, train loss: 0.050171, graph type: grid, num_layer: 4, hidden: 128\n",
    "Epoch: 31/100, train loss: 0.049374, graph type: grid, num_layer: 4, hidden: 128\n",
    "Epoch: 32/100, train loss: 0.048911, graph type: grid, num_layer: 4, hidden: 128\n",
    "Epoch: 33/100, train loss: 0.048851, graph type: grid, num_layer: 4, hidden: 128\n",
    "Epoch: 34/100, train loss: 0.048683, graph type: grid, num_layer: 4, hidden: 128\n",
    "Epoch: 35/100, train loss: 0.049063, graph type: grid, num_layer: 4, hidden: 128\n",
    "Epoch: 36/100, train loss: 0.048380, graph type: grid, num_layer: 4, hidden: 128\n",
    "Epoch: 37/100, train loss: 0.048604, graph type: grid, num_layer: 4, hidden: 128\n",
    "Epoch: 38/100, train loss: 0.047782, graph type: grid, num_layer: 4, hidden: 128\n",
    "Epoch: 39/100, train loss: 0.047716, graph type: grid, num_layer: 4, hidden: 128\n",
    "Epoch: 40/100, train loss: 0.046467, graph type: grid, num_layer: 4, hidden: 128\n",
    "Epoch: 41/100, train loss: 0.049959, graph type: grid, num_layer: 4, hidden: 128\n",
    "Epoch: 42/100, train loss: 0.048197, graph type: grid, num_layer: 4, hidden: 128\n",
    "Epoch: 43/100, train loss: 0.046711, graph type: grid, num_layer: 4, hidden: 128\n",
    "Epoch: 44/100, train loss: 0.047492, graph type: grid, num_layer: 4, hidden: 128\n",
    "Epoch: 45/100, train loss: 0.047674, graph type: grid, num_layer: 4, hidden: 128\n",
    "Epoch: 46/100, train loss: 0.047146, graph type: grid, num_layer: 4, hidden: 128\n",
    "Epoch: 47/100, train loss: 0.047518, graph type: grid, num_layer: 4, hidden: 128\n",
    "Epoch: 48/100, train loss: 0.046216, graph type: grid, num_layer: 4, hidden: 128\n",
    "Epoch: 49/100, train loss: 0.047959, graph type: grid, num_layer: 4, hidden: 128\n",
    "Epoch: 50/100, train loss: 0.047338, graph type: grid, num_layer: 4, hidden: 128\n",
    "Epoch: 51/100, train loss: 0.045528, graph type: grid, num_layer: 4, hidden: 128\n",
    "Epoch: 52/100, train loss: 0.046478, graph type: grid, num_layer: 4, hidden: 128\n",
    "Epoch: 53/100, train loss: 0.047766, graph type: grid, num_layer: 4, hidden: 128\n",
    "Epoch: 54/100, train loss: 0.046044, graph type: grid, num_layer: 4, hidden: 128\n",
    "Epoch: 55/100, train loss: 0.046303, graph type: grid, num_layer: 4, hidden: 128\n",
    "Epoch: 56/100, train loss: 0.047630, graph type: grid, num_layer: 4, hidden: 128\n",
    "Epoch: 57/100, train loss: 0.044699, graph type: grid, num_layer: 4, hidden: 128\n",
    "Epoch: 58/100, train loss: 0.046679, graph type: grid, num_layer: 4, hidden: 128\n",
    "Epoch: 59/100, train loss: 0.044902, graph type: grid, num_layer: 4, hidden: 128\n",
    "Epoch: 60/100, train loss: 0.045676, graph type: grid, num_layer: 4, hidden: 128\n",
    "Epoch: 61/100, train loss: 0.045428, graph type: grid, num_layer: 4, hidden: 128\n",
    "Epoch: 62/100, train loss: 0.044250, graph type: grid, num_layer: 4, hidden: 128\n",
    "Epoch: 63/100, train loss: 0.046479, graph type: grid, num_layer: 4, hidden: 128\n",
    "Epoch: 64/100, train loss: 0.046265, graph type: grid, num_layer: 4, hidden: 128\n",
    "Epoch: 65/100, train loss: 0.043623, graph type: grid, num_layer: 4, hidden: 128\n",
    "Epoch: 66/100, train loss: 0.045965, graph type: grid, num_layer: 4, hidden: 128\n",
    "Epoch: 67/100, train loss: 0.044558, graph type: grid, num_layer: 4, hidden: 128\n",
    "Epoch: 68/100, train loss: 0.045687, graph type: grid, num_layer: 4, hidden: 128\n",
    "Epoch: 69/100, train loss: 0.045598, graph type: grid, num_layer: 4, hidden: 128\n",
    "Epoch: 70/100, train loss: 0.044574, graph type: grid, num_layer: 4, hidden: 128\n",
    "Epoch: 71/100, train loss: 0.045474, graph type: grid, num_layer: 4, hidden: 128\n",
    "Epoch: 72/100, train loss: 0.044909, graph type: grid, num_layer: 4, hidden: 128\n",
    "Epoch: 73/100, train loss: 0.045398, graph type: grid, num_layer: 4, hidden: 128\n",
    "Epoch: 74/100, train loss: 0.041634, graph type: grid, num_layer: 4, hidden: 128\n",
    "Epoch: 75/100, train loss: 0.044222, graph type: grid, num_layer: 4, hidden: 128\n",
    "Epoch: 76/100, train loss: 0.044917, graph type: grid, num_layer: 4, hidden: 128\n",
    "Epoch: 77/100, train loss: 0.043041, graph type: grid, num_layer: 4, hidden: 128\n",
    "Epoch: 78/100, train loss: 0.043189, graph type: grid, num_layer: 4, hidden: 128\n",
    "Epoch: 79/100, train loss: 0.044079, graph type: grid, num_layer: 4, hidden: 128\n",
    "Epoch: 80/100, train loss: 0.044933, graph type: grid, num_layer: 4, hidden: 128\n",
    "Epoch: 81/100, train loss: 0.046050, graph type: grid, num_layer: 4, hidden: 128\n",
    "Epoch: 82/100, train loss: 0.042570, graph type: grid, num_layer: 4, hidden: 128\n",
    "Epoch: 83/100, train loss: 0.044009, graph type: grid, num_layer: 4, hidden: 128\n",
    "Epoch: 84/100, train loss: 0.043937, graph type: grid, num_layer: 4, hidden: 128\n",
    "Epoch: 85/100, train loss: 0.045155, graph type: grid, num_layer: 4, hidden: 128\n",
    "Epoch: 86/100, train loss: 0.044266, graph type: grid, num_layer: 4, hidden: 128\n",
    "Epoch: 87/100, train loss: 0.043009, graph type: grid, num_layer: 4, hidden: 128\n",
    "Epoch: 88/100, train loss: 0.043707, graph type: grid, num_layer: 4, hidden: 128\n",
    "Epoch: 89/100, train loss: 0.041135, graph type: grid, num_layer: 4, hidden: 128\n",
    "Epoch: 90/100, train loss: 0.042215, graph type: grid, num_layer: 4, hidden: 128\n",
    "Epoch: 91/100, train loss: 0.043264, graph type: grid, num_layer: 4, hidden: 128\n",
    "Epoch: 92/100, train loss: 0.044731, graph type: grid, num_layer: 4, hidden: 128\n",
    "Epoch: 93/100, train loss: 0.040908, graph type: grid, num_layer: 4, hidden: 128\n",
    "Epoch: 94/100, train loss: 0.043581, graph type: grid, num_layer: 4, hidden: 128\n",
    "Epoch: 95/100, train loss: 0.043300, graph type: grid, num_layer: 4, hidden: 128\n",
    "Epoch: 96/100, train loss: 0.043102, graph type: grid, num_layer: 4, hidden: 128\n",
    "Epoch: 97/100, train loss: 0.040742, graph type: grid, num_layer: 4, hidden: 128\n",
    "Epoch: 98/100, train loss: 0.042840, graph type: grid, num_layer: 4, hidden: 128\n",
    "Epoch: 99/100, train loss: 0.042965, graph type: grid, num_layer: 4, hidden: 128\n",
    "Epoch: 100/100, train loss: 0.040814, graph type: grid, num_layer: 4, hidden: 128"
   ]
  },
  {
   "cell_type": "code",
   "execution_count": null,
   "metadata": {},
   "outputs": [],
   "source": []
  }
 ],
 "metadata": {
  "kernelspec": {
   "display_name": "Python 3",
   "language": "python",
   "name": "python3"
  },
  "language_info": {
   "codemirror_mode": {
    "name": "ipython",
    "version": 3
   },
   "file_extension": ".py",
   "mimetype": "text/x-python",
   "name": "python",
   "nbconvert_exporter": "python",
   "pygments_lexer": "ipython3",
   "version": "3.7.3"
  }
 },
 "nbformat": 4,
 "nbformat_minor": 2
}
