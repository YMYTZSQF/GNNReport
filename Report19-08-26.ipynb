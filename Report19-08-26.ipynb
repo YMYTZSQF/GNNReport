{
 "cells": [
  {
   "cell_type": "markdown",
   "metadata": {},
   "source": [
    "Memory costs analysis for GraphRNN:\n",
    "1. The default setting to train the model contains 100 grids with size $m * n$, where $m, n \\in [10, 19]$.\n",
    "\n",
    "2. For each graph, it randomly chooses a start point and do Breadth-First-Search(BFS), then it uses the BFS order as the order of nodes of graphs. Based on that order, it builds the adjacent matrix for each graph.\n",
    "\n",
    "3. According to the properties of BFS, each node can only reach node in the next layer in the BFS, as shown in the following figure, nodes from the same layer are in the same color.\n",
    "\n",
    "![p1.png](p1.png)\n",
    "\n",
    "Therefore, instead of using the original adjacent matrix, each node only considers the connection to 40 (default setting) nodes before it. Thus, the adjacent matrix used to represent a graph becomes:\n",
    "![image.png](p2.jpg)\n",
    "<img src=\"p2.jpg\">"
   ]
  },
  {
   "cell_type": "code",
   "execution_count": null,
   "metadata": {},
   "outputs": [],
   "source": []
  }
 ],
 "metadata": {
  "kernelspec": {
   "display_name": "Python 3",
   "language": "python",
   "name": "python3"
  },
  "language_info": {
   "codemirror_mode": {
    "name": "ipython",
    "version": 3
   },
   "file_extension": ".py",
   "mimetype": "text/x-python",
   "name": "python",
   "nbconvert_exporter": "python",
   "pygments_lexer": "ipython3",
   "version": "3.7.3"
  }
 },
 "nbformat": 4,
 "nbformat_minor": 2
}
