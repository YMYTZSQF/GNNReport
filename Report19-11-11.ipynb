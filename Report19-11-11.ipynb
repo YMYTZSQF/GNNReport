{
 "cells": [
  {
   "cell_type": "markdown",
   "metadata": {},
   "source": [
    "<li>First item</li> Graph Edit Distance: the number of edge/node changes needed to make two graphs isomorphic. The problem of finding the exact Graph Edit Distance (GED) is NP-hard so it is often slow. It may not be a good measurement between graphs of different scales.\n",
    "\n",
    "\n",
    "2. Feature extraction: extract statistics such as: degree distribution, diameter, eigenvalues. Directly compare the values of these statistics maybe misleading. We may need to compare two distributions after normalization\n",
    "\n",
    "\n",
    "3. Iterative methods: The philosophy behind the iterative methods is that “two nodes are similar if their neighborhoods are also similar”. In each iteration, the nodes update similarity scores using all its neighbors'scores and this process ends when convergence is achieved. This method may not be suitable for comparison of different scale graphs\n",
    "\n",
    "\n",
    "4. Compare adjacent matirx: directly compare the difference between two adjacent matrix. This method is also not friendly to compare graphs with different scales"
   ]
  },
  {
   "cell_type": "markdown",
   "metadata": {},
   "source": [
    "I think the similarity comparsion is supposed to be done with similar scale. So it may be easier that we have a large graph to train and firstly we do graph partition or sampling and then use subgraphs to train and then merge into a large one to bulid a end-to-end solution"
   ]
  },
  {
   "cell_type": "markdown",
   "metadata": {},
   "source": [
    "There are a couple of graph partition method availables: \n",
    "\n",
    "1.Vertices partition: partitions the vertices of the graph into balanced partitions and minimizes the number of edge-cut(the edge which connects two partitions) \n",
    "\n",
    "2.Edge partition: partitions the edges of the graph into balanced partitions such that the total number of vertex replicas is minimized"
   ]
  },
  {
   "cell_type": "code",
   "execution_count": null,
   "metadata": {},
   "outputs": [],
   "source": []
  }
 ],
 "metadata": {
  "kernelspec": {
   "display_name": "Python 3",
   "language": "python",
   "name": "python3"
  },
  "language_info": {
   "codemirror_mode": {
    "name": "ipython",
    "version": 3
   },
   "file_extension": ".py",
   "mimetype": "text/x-python",
   "name": "python",
   "nbconvert_exporter": "python",
   "pygments_lexer": "ipython3",
   "version": "3.7.3"
  }
 },
 "nbformat": 4,
 "nbformat_minor": 2
}
